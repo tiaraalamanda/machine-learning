{
  "nbformat": 4,
  "nbformat_minor": 0,
  "metadata": {
    "colab": {
      "provenance": []
    },
    "kernelspec": {
      "name": "python3",
      "display_name": "Python 3"
    },
    "language_info": {
      "name": "python"
    }
  },
  "cells": [
    {
      "cell_type": "code",
      "execution_count": 1,
      "metadata": {
        "colab": {
          "base_uri": "https://localhost:8080/"
        },
        "id": "Ry3lvv7duzcy",
        "outputId": "460812d9-0e6d-4860-a33e-854ded714fc2"
      },
      "outputs": [
        {
          "output_type": "stream",
          "name": "stdout",
          "text": [
            "Looking in indexes: https://pypi.org/simple, https://us-python.pkg.dev/colab-wheels/public/simple/\n",
            "Collecting pyspark\n",
            "  Downloading pyspark-3.4.0.tar.gz (310.8 MB)\n",
            "\u001b[2K     \u001b[90m━━━━━━━━━━━━━━━━━━━━━━━━━━━━━━━━━━━━━━━\u001b[0m \u001b[32m310.8/310.8 MB\u001b[0m \u001b[31m4.9 MB/s\u001b[0m eta \u001b[36m0:00:00\u001b[0m\n",
            "\u001b[?25h  Preparing metadata (setup.py) ... \u001b[?25l\u001b[?25hdone\n",
            "Requirement already satisfied: py4j==0.10.9.7 in /usr/local/lib/python3.10/dist-packages (from pyspark) (0.10.9.7)\n",
            "Building wheels for collected packages: pyspark\n",
            "  Building wheel for pyspark (setup.py) ... \u001b[?25l\u001b[?25hdone\n",
            "  Created wheel for pyspark: filename=pyspark-3.4.0-py2.py3-none-any.whl size=311317130 sha256=a491336fd3a373bc155408b61d18a685e64c6d175ed033117041ee845bd2c4a2\n",
            "  Stored in directory: /root/.cache/pip/wheels/7b/1b/4b/3363a1d04368e7ff0d408e57ff57966fcdf00583774e761327\n",
            "Successfully built pyspark\n",
            "Installing collected packages: pyspark\n",
            "Successfully installed pyspark-3.4.0\n"
          ]
        }
      ],
      "source": [
        "# Instalasi pyspark\n",
        "!pip install pyspark"
      ]
    },
    {
      "cell_type": "code",
      "source": [
        "# import library yang digunakan\n",
        "import requests\n",
        "from pyspark.sql import SparkSession"
      ],
      "metadata": {
        "id": "ZFFJ4Ap1u0JS"
      },
      "execution_count": 5,
      "outputs": []
    },
    {
      "cell_type": "code",
      "source": [
        "# Membuat spark session\n",
        "spark = SparkSession.builder.appName(\"My Analysis\").getOrCreate()"
      ],
      "metadata": {
        "id": "RFMWNy57u1aL"
      },
      "execution_count": 3,
      "outputs": []
    },
    {
      "cell_type": "code",
      "source": [
        "# Mengambil data dari api\n",
        "###### Ganti URL ########\n",
        "response = requests.get(\"https://data.jabarprov.go.id/api-backend/bigdata/dkpp/od_15267_jml_pengeluaran_kulit_sapi__kategori_kulit_kabupatenko\")\n",
        "data = response.json()[\"data\"]\n",
        "print(data)"
      ],
      "metadata": {
        "colab": {
          "base_uri": "https://localhost:8080/"
        },
        "id": "jd_bTgtfu6Iw",
        "outputId": "55db7cff-321d-4c6b-e302-0f11bcaa1da8"
      },
      "execution_count": 6,
      "outputs": [
        {
          "output_type": "stream",
          "name": "stdout",
          "text": [
            "[{'id': 1, 'kode_provinsi': 32, 'nama_provinsi': 'JAWA BARAT', 'kode_kabupaten_kota': 3201, 'nama_kabupaten_kota': 'KABUPATEN BOGOR', 'kategori_kulit': 'BASAH', 'jumlah_pengeluaran': 7471, 'satuan': 'LEMBAR', 'tahun': 2017}, {'id': 2, 'kode_provinsi': 32, 'nama_provinsi': 'JAWA BARAT', 'kode_kabupaten_kota': 3201, 'nama_kabupaten_kota': 'KABUPATEN BOGOR', 'kategori_kulit': 'KERING', 'jumlah_pengeluaran': 3065, 'satuan': 'LEMBAR', 'tahun': 2017}, {'id': 3, 'kode_provinsi': 32, 'nama_provinsi': 'JAWA BARAT', 'kode_kabupaten_kota': 3202, 'nama_kabupaten_kota': 'KABUPATEN SUKABUMI', 'kategori_kulit': 'BASAH', 'jumlah_pengeluaran': 0, 'satuan': 'LEMBAR', 'tahun': 2017}, {'id': 4, 'kode_provinsi': 32, 'nama_provinsi': 'JAWA BARAT', 'kode_kabupaten_kota': 3202, 'nama_kabupaten_kota': 'KABUPATEN SUKABUMI', 'kategori_kulit': 'KERING', 'jumlah_pengeluaran': 0, 'satuan': 'LEMBAR', 'tahun': 2017}, {'id': 5, 'kode_provinsi': 32, 'nama_provinsi': 'JAWA BARAT', 'kode_kabupaten_kota': 3203, 'nama_kabupaten_kota': 'KABUPATEN CIANJUR', 'kategori_kulit': 'BASAH', 'jumlah_pengeluaran': 0, 'satuan': 'LEMBAR', 'tahun': 2017}, {'id': 6, 'kode_provinsi': 32, 'nama_provinsi': 'JAWA BARAT', 'kode_kabupaten_kota': 3203, 'nama_kabupaten_kota': 'KABUPATEN CIANJUR', 'kategori_kulit': 'KERING', 'jumlah_pengeluaran': 474, 'satuan': 'LEMBAR', 'tahun': 2017}, {'id': 7, 'kode_provinsi': 32, 'nama_provinsi': 'JAWA BARAT', 'kode_kabupaten_kota': 3204, 'nama_kabupaten_kota': 'KABUPATEN BANDUNG', 'kategori_kulit': 'BASAH', 'jumlah_pengeluaran': 0, 'satuan': 'LEMBAR', 'tahun': 2017}, {'id': 8, 'kode_provinsi': 32, 'nama_provinsi': 'JAWA BARAT', 'kode_kabupaten_kota': 3204, 'nama_kabupaten_kota': 'KABUPATEN BANDUNG', 'kategori_kulit': 'KERING', 'jumlah_pengeluaran': 0, 'satuan': 'LEMBAR', 'tahun': 2017}, {'id': 9, 'kode_provinsi': 32, 'nama_provinsi': 'JAWA BARAT', 'kode_kabupaten_kota': 3205, 'nama_kabupaten_kota': 'KABUPATEN GARUT', 'kategori_kulit': 'BASAH', 'jumlah_pengeluaran': 0, 'satuan': 'LEMBAR', 'tahun': 2017}, {'id': 10, 'kode_provinsi': 32, 'nama_provinsi': 'JAWA BARAT', 'kode_kabupaten_kota': 3205, 'nama_kabupaten_kota': 'KABUPATEN GARUT', 'kategori_kulit': 'KERING', 'jumlah_pengeluaran': 0, 'satuan': 'LEMBAR', 'tahun': 2017}, {'id': 11, 'kode_provinsi': 32, 'nama_provinsi': 'JAWA BARAT', 'kode_kabupaten_kota': 3206, 'nama_kabupaten_kota': 'KABUPATEN TASIKMALAYA', 'kategori_kulit': 'BASAH', 'jumlah_pengeluaran': 0, 'satuan': 'LEMBAR', 'tahun': 2017}, {'id': 12, 'kode_provinsi': 32, 'nama_provinsi': 'JAWA BARAT', 'kode_kabupaten_kota': 3206, 'nama_kabupaten_kota': 'KABUPATEN TASIKMALAYA', 'kategori_kulit': 'KERING', 'jumlah_pengeluaran': 0, 'satuan': 'LEMBAR', 'tahun': 2017}, {'id': 13, 'kode_provinsi': 32, 'nama_provinsi': 'JAWA BARAT', 'kode_kabupaten_kota': 3207, 'nama_kabupaten_kota': 'KABUPATEN CIAMIS', 'kategori_kulit': 'BASAH', 'jumlah_pengeluaran': 0, 'satuan': 'LEMBAR', 'tahun': 2017}, {'id': 14, 'kode_provinsi': 32, 'nama_provinsi': 'JAWA BARAT', 'kode_kabupaten_kota': 3207, 'nama_kabupaten_kota': 'KABUPATEN CIAMIS', 'kategori_kulit': 'KERING', 'jumlah_pengeluaran': 0, 'satuan': 'LEMBAR', 'tahun': 2017}, {'id': 15, 'kode_provinsi': 32, 'nama_provinsi': 'JAWA BARAT', 'kode_kabupaten_kota': 3208, 'nama_kabupaten_kota': 'KABUPATEN KUNINGAN', 'kategori_kulit': 'BASAH', 'jumlah_pengeluaran': 0, 'satuan': 'LEMBAR', 'tahun': 2017}, {'id': 16, 'kode_provinsi': 32, 'nama_provinsi': 'JAWA BARAT', 'kode_kabupaten_kota': 3208, 'nama_kabupaten_kota': 'KABUPATEN KUNINGAN', 'kategori_kulit': 'KERING', 'jumlah_pengeluaran': 0, 'satuan': 'LEMBAR', 'tahun': 2017}, {'id': 17, 'kode_provinsi': 32, 'nama_provinsi': 'JAWA BARAT', 'kode_kabupaten_kota': 3209, 'nama_kabupaten_kota': 'KABUPATEN CIREBON', 'kategori_kulit': 'BASAH', 'jumlah_pengeluaran': 5765, 'satuan': 'LEMBAR', 'tahun': 2017}, {'id': 18, 'kode_provinsi': 32, 'nama_provinsi': 'JAWA BARAT', 'kode_kabupaten_kota': 3209, 'nama_kabupaten_kota': 'KABUPATEN CIREBON', 'kategori_kulit': 'KERING', 'jumlah_pengeluaran': 0, 'satuan': 'LEMBAR', 'tahun': 2017}, {'id': 19, 'kode_provinsi': 32, 'nama_provinsi': 'JAWA BARAT', 'kode_kabupaten_kota': 3210, 'nama_kabupaten_kota': 'KABUPATEN MAJALENGKA', 'kategori_kulit': 'BASAH', 'jumlah_pengeluaran': 0, 'satuan': 'LEMBAR', 'tahun': 2017}, {'id': 20, 'kode_provinsi': 32, 'nama_provinsi': 'JAWA BARAT', 'kode_kabupaten_kota': 3210, 'nama_kabupaten_kota': 'KABUPATEN MAJALENGKA', 'kategori_kulit': 'KERING', 'jumlah_pengeluaran': 0, 'satuan': 'LEMBAR', 'tahun': 2017}, {'id': 21, 'kode_provinsi': 32, 'nama_provinsi': 'JAWA BARAT', 'kode_kabupaten_kota': 3211, 'nama_kabupaten_kota': 'KABUPATEN SUMEDANG', 'kategori_kulit': 'BASAH', 'jumlah_pengeluaran': 240, 'satuan': 'LEMBAR', 'tahun': 2017}, {'id': 22, 'kode_provinsi': 32, 'nama_provinsi': 'JAWA BARAT', 'kode_kabupaten_kota': 3211, 'nama_kabupaten_kota': 'KABUPATEN SUMEDANG', 'kategori_kulit': 'KERING', 'jumlah_pengeluaran': 193, 'satuan': 'LEMBAR', 'tahun': 2017}, {'id': 23, 'kode_provinsi': 32, 'nama_provinsi': 'JAWA BARAT', 'kode_kabupaten_kota': 3212, 'nama_kabupaten_kota': 'KABUPATEN INDRAMAYU', 'kategori_kulit': 'BASAH', 'jumlah_pengeluaran': 0, 'satuan': 'LEMBAR', 'tahun': 2017}, {'id': 24, 'kode_provinsi': 32, 'nama_provinsi': 'JAWA BARAT', 'kode_kabupaten_kota': 3212, 'nama_kabupaten_kota': 'KABUPATEN INDRAMAYU', 'kategori_kulit': 'KERING', 'jumlah_pengeluaran': 0, 'satuan': 'LEMBAR', 'tahun': 2017}, {'id': 25, 'kode_provinsi': 32, 'nama_provinsi': 'JAWA BARAT', 'kode_kabupaten_kota': 3213, 'nama_kabupaten_kota': 'KABUPATEN SUBANG', 'kategori_kulit': 'BASAH', 'jumlah_pengeluaran': 0, 'satuan': 'LEMBAR', 'tahun': 2017}, {'id': 26, 'kode_provinsi': 32, 'nama_provinsi': 'JAWA BARAT', 'kode_kabupaten_kota': 3213, 'nama_kabupaten_kota': 'KABUPATEN SUBANG', 'kategori_kulit': 'KERING', 'jumlah_pengeluaran': 0, 'satuan': 'LEMBAR', 'tahun': 2017}, {'id': 27, 'kode_provinsi': 32, 'nama_provinsi': 'JAWA BARAT', 'kode_kabupaten_kota': 3214, 'nama_kabupaten_kota': 'KABUPATEN PURWAKARTA', 'kategori_kulit': 'BASAH', 'jumlah_pengeluaran': 0, 'satuan': 'LEMBAR', 'tahun': 2017}, {'id': 28, 'kode_provinsi': 32, 'nama_provinsi': 'JAWA BARAT', 'kode_kabupaten_kota': 3214, 'nama_kabupaten_kota': 'KABUPATEN PURWAKARTA', 'kategori_kulit': 'KERING', 'jumlah_pengeluaran': 0, 'satuan': 'LEMBAR', 'tahun': 2017}, {'id': 29, 'kode_provinsi': 32, 'nama_provinsi': 'JAWA BARAT', 'kode_kabupaten_kota': 3215, 'nama_kabupaten_kota': 'KABUPATEN KARAWANG', 'kategori_kulit': 'BASAH', 'jumlah_pengeluaran': 0, 'satuan': 'LEMBAR', 'tahun': 2017}, {'id': 30, 'kode_provinsi': 32, 'nama_provinsi': 'JAWA BARAT', 'kode_kabupaten_kota': 3215, 'nama_kabupaten_kota': 'KABUPATEN KARAWANG', 'kategori_kulit': 'KERING', 'jumlah_pengeluaran': 0, 'satuan': 'LEMBAR', 'tahun': 2017}, {'id': 31, 'kode_provinsi': 32, 'nama_provinsi': 'JAWA BARAT', 'kode_kabupaten_kota': 3216, 'nama_kabupaten_kota': 'KABUPATEN BEKASI', 'kategori_kulit': 'BASAH', 'jumlah_pengeluaran': 0, 'satuan': 'LEMBAR', 'tahun': 2017}, {'id': 32, 'kode_provinsi': 32, 'nama_provinsi': 'JAWA BARAT', 'kode_kabupaten_kota': 3216, 'nama_kabupaten_kota': 'KABUPATEN BEKASI', 'kategori_kulit': 'KERING', 'jumlah_pengeluaran': 0, 'satuan': 'LEMBAR', 'tahun': 2017}, {'id': 33, 'kode_provinsi': 32, 'nama_provinsi': 'JAWA BARAT', 'kode_kabupaten_kota': 3217, 'nama_kabupaten_kota': 'KABUPATEN BANDUNG BARAT', 'kategori_kulit': 'BASAH', 'jumlah_pengeluaran': 0, 'satuan': 'LEMBAR', 'tahun': 2017}, {'id': 34, 'kode_provinsi': 32, 'nama_provinsi': 'JAWA BARAT', 'kode_kabupaten_kota': 3217, 'nama_kabupaten_kota': 'KABUPATEN BANDUNG BARAT', 'kategori_kulit': 'KERING', 'jumlah_pengeluaran': 0, 'satuan': 'LEMBAR', 'tahun': 2017}, {'id': 35, 'kode_provinsi': 32, 'nama_provinsi': 'JAWA BARAT', 'kode_kabupaten_kota': 3218, 'nama_kabupaten_kota': 'KABUPATEN PANGANDARAN', 'kategori_kulit': 'BASAH', 'jumlah_pengeluaran': 0, 'satuan': 'LEMBAR', 'tahun': 2017}, {'id': 36, 'kode_provinsi': 32, 'nama_provinsi': 'JAWA BARAT', 'kode_kabupaten_kota': 3218, 'nama_kabupaten_kota': 'KABUPATEN PANGANDARAN', 'kategori_kulit': 'KERING', 'jumlah_pengeluaran': 0, 'satuan': 'LEMBAR', 'tahun': 2017}, {'id': 37, 'kode_provinsi': 32, 'nama_provinsi': 'JAWA BARAT', 'kode_kabupaten_kota': 3271, 'nama_kabupaten_kota': 'KOTA BOGOR', 'kategori_kulit': 'BASAH', 'jumlah_pengeluaran': 0, 'satuan': 'LEMBAR', 'tahun': 2017}, {'id': 38, 'kode_provinsi': 32, 'nama_provinsi': 'JAWA BARAT', 'kode_kabupaten_kota': 3271, 'nama_kabupaten_kota': 'KOTA BOGOR', 'kategori_kulit': 'KERING', 'jumlah_pengeluaran': 0, 'satuan': 'LEMBAR', 'tahun': 2017}, {'id': 39, 'kode_provinsi': 32, 'nama_provinsi': 'JAWA BARAT', 'kode_kabupaten_kota': 3272, 'nama_kabupaten_kota': 'KOTA SUKABUMI', 'kategori_kulit': 'BASAH', 'jumlah_pengeluaran': 0, 'satuan': 'LEMBAR', 'tahun': 2017}, {'id': 40, 'kode_provinsi': 32, 'nama_provinsi': 'JAWA BARAT', 'kode_kabupaten_kota': 3272, 'nama_kabupaten_kota': 'KOTA SUKABUMI', 'kategori_kulit': 'KERING', 'jumlah_pengeluaran': 0, 'satuan': 'LEMBAR', 'tahun': 2017}, {'id': 41, 'kode_provinsi': 32, 'nama_provinsi': 'JAWA BARAT', 'kode_kabupaten_kota': 3273, 'nama_kabupaten_kota': 'KOTA BANDUNG', 'kategori_kulit': 'BASAH', 'jumlah_pengeluaran': 0, 'satuan': 'LEMBAR', 'tahun': 2017}, {'id': 42, 'kode_provinsi': 32, 'nama_provinsi': 'JAWA BARAT', 'kode_kabupaten_kota': 3273, 'nama_kabupaten_kota': 'KOTA BANDUNG', 'kategori_kulit': 'KERING', 'jumlah_pengeluaran': 0, 'satuan': 'LEMBAR', 'tahun': 2017}, {'id': 43, 'kode_provinsi': 32, 'nama_provinsi': 'JAWA BARAT', 'kode_kabupaten_kota': 3274, 'nama_kabupaten_kota': 'KOTA CIREBON', 'kategori_kulit': 'BASAH', 'jumlah_pengeluaran': 0, 'satuan': 'LEMBAR', 'tahun': 2017}, {'id': 44, 'kode_provinsi': 32, 'nama_provinsi': 'JAWA BARAT', 'kode_kabupaten_kota': 3274, 'nama_kabupaten_kota': 'KOTA CIREBON', 'kategori_kulit': 'KERING', 'jumlah_pengeluaran': 0, 'satuan': 'LEMBAR', 'tahun': 2017}, {'id': 45, 'kode_provinsi': 32, 'nama_provinsi': 'JAWA BARAT', 'kode_kabupaten_kota': 3275, 'nama_kabupaten_kota': 'KOTA BEKASI', 'kategori_kulit': 'BASAH', 'jumlah_pengeluaran': 0, 'satuan': 'LEMBAR', 'tahun': 2017}, {'id': 46, 'kode_provinsi': 32, 'nama_provinsi': 'JAWA BARAT', 'kode_kabupaten_kota': 3275, 'nama_kabupaten_kota': 'KOTA BEKASI', 'kategori_kulit': 'KERING', 'jumlah_pengeluaran': 0, 'satuan': 'LEMBAR', 'tahun': 2017}, {'id': 47, 'kode_provinsi': 32, 'nama_provinsi': 'JAWA BARAT', 'kode_kabupaten_kota': 3276, 'nama_kabupaten_kota': 'KOTA DEPOK', 'kategori_kulit': 'BASAH', 'jumlah_pengeluaran': 0, 'satuan': 'LEMBAR', 'tahun': 2017}, {'id': 48, 'kode_provinsi': 32, 'nama_provinsi': 'JAWA BARAT', 'kode_kabupaten_kota': 3276, 'nama_kabupaten_kota': 'KOTA DEPOK', 'kategori_kulit': 'KERING', 'jumlah_pengeluaran': 0, 'satuan': 'LEMBAR', 'tahun': 2017}, {'id': 49, 'kode_provinsi': 32, 'nama_provinsi': 'JAWA BARAT', 'kode_kabupaten_kota': 3277, 'nama_kabupaten_kota': 'KOTA CIMAHI', 'kategori_kulit': 'BASAH', 'jumlah_pengeluaran': 0, 'satuan': 'LEMBAR', 'tahun': 2017}, {'id': 50, 'kode_provinsi': 32, 'nama_provinsi': 'JAWA BARAT', 'kode_kabupaten_kota': 3277, 'nama_kabupaten_kota': 'KOTA CIMAHI', 'kategori_kulit': 'KERING', 'jumlah_pengeluaran': 0, 'satuan': 'LEMBAR', 'tahun': 2017}, {'id': 51, 'kode_provinsi': 32, 'nama_provinsi': 'JAWA BARAT', 'kode_kabupaten_kota': 3278, 'nama_kabupaten_kota': 'KOTA TASIKMALAYA', 'kategori_kulit': 'BASAH', 'jumlah_pengeluaran': 0, 'satuan': 'LEMBAR', 'tahun': 2017}, {'id': 52, 'kode_provinsi': 32, 'nama_provinsi': 'JAWA BARAT', 'kode_kabupaten_kota': 3278, 'nama_kabupaten_kota': 'KOTA TASIKMALAYA', 'kategori_kulit': 'KERING', 'jumlah_pengeluaran': 0, 'satuan': 'LEMBAR', 'tahun': 2017}, {'id': 53, 'kode_provinsi': 32, 'nama_provinsi': 'JAWA BARAT', 'kode_kabupaten_kota': 3279, 'nama_kabupaten_kota': 'KOTA BANJAR', 'kategori_kulit': 'BASAH', 'jumlah_pengeluaran': 0, 'satuan': 'LEMBAR', 'tahun': 2017}, {'id': 54, 'kode_provinsi': 32, 'nama_provinsi': 'JAWA BARAT', 'kode_kabupaten_kota': 3279, 'nama_kabupaten_kota': 'KOTA BANJAR', 'kategori_kulit': 'KERING', 'jumlah_pengeluaran': 0, 'satuan': 'LEMBAR', 'tahun': 2017}, {'id': 55, 'kode_provinsi': 32, 'nama_provinsi': 'JAWA BARAT', 'kode_kabupaten_kota': 3201, 'nama_kabupaten_kota': 'KABUPATEN BOGOR', 'kategori_kulit': 'BASAH', 'jumlah_pengeluaran': 0, 'satuan': 'LEMBAR', 'tahun': 2018}, {'id': 56, 'kode_provinsi': 32, 'nama_provinsi': 'JAWA BARAT', 'kode_kabupaten_kota': 3201, 'nama_kabupaten_kota': 'KABUPATEN BOGOR', 'kategori_kulit': 'KERING', 'jumlah_pengeluaran': 0, 'satuan': 'LEMBAR', 'tahun': 2018}, {'id': 57, 'kode_provinsi': 32, 'nama_provinsi': 'JAWA BARAT', 'kode_kabupaten_kota': 3202, 'nama_kabupaten_kota': 'KABUPATEN SUKABUMI', 'kategori_kulit': 'BASAH', 'jumlah_pengeluaran': 0, 'satuan': 'LEMBAR', 'tahun': 2018}, {'id': 58, 'kode_provinsi': 32, 'nama_provinsi': 'JAWA BARAT', 'kode_kabupaten_kota': 3202, 'nama_kabupaten_kota': 'KABUPATEN SUKABUMI', 'kategori_kulit': 'KERING', 'jumlah_pengeluaran': 0, 'satuan': 'LEMBAR', 'tahun': 2018}, {'id': 59, 'kode_provinsi': 32, 'nama_provinsi': 'JAWA BARAT', 'kode_kabupaten_kota': 3203, 'nama_kabupaten_kota': 'KABUPATEN CIANJUR', 'kategori_kulit': 'BASAH', 'jumlah_pengeluaran': 0, 'satuan': 'LEMBAR', 'tahun': 2018}, {'id': 60, 'kode_provinsi': 32, 'nama_provinsi': 'JAWA BARAT', 'kode_kabupaten_kota': 3203, 'nama_kabupaten_kota': 'KABUPATEN CIANJUR', 'kategori_kulit': 'KERING', 'jumlah_pengeluaran': 0, 'satuan': 'LEMBAR', 'tahun': 2018}, {'id': 61, 'kode_provinsi': 32, 'nama_provinsi': 'JAWA BARAT', 'kode_kabupaten_kota': 3204, 'nama_kabupaten_kota': 'KABUPATEN BANDUNG', 'kategori_kulit': 'BASAH', 'jumlah_pengeluaran': 0, 'satuan': 'LEMBAR', 'tahun': 2018}, {'id': 62, 'kode_provinsi': 32, 'nama_provinsi': 'JAWA BARAT', 'kode_kabupaten_kota': 3204, 'nama_kabupaten_kota': 'KABUPATEN BANDUNG', 'kategori_kulit': 'KERING', 'jumlah_pengeluaran': 0, 'satuan': 'LEMBAR', 'tahun': 2018}, {'id': 63, 'kode_provinsi': 32, 'nama_provinsi': 'JAWA BARAT', 'kode_kabupaten_kota': 3205, 'nama_kabupaten_kota': 'KABUPATEN GARUT', 'kategori_kulit': 'BASAH', 'jumlah_pengeluaran': 0, 'satuan': 'LEMBAR', 'tahun': 2018}, {'id': 64, 'kode_provinsi': 32, 'nama_provinsi': 'JAWA BARAT', 'kode_kabupaten_kota': 3205, 'nama_kabupaten_kota': 'KABUPATEN GARUT', 'kategori_kulit': 'KERING', 'jumlah_pengeluaran': 0, 'satuan': 'LEMBAR', 'tahun': 2018}, {'id': 65, 'kode_provinsi': 32, 'nama_provinsi': 'JAWA BARAT', 'kode_kabupaten_kota': 3206, 'nama_kabupaten_kota': 'KABUPATEN TASIKMALAYA', 'kategori_kulit': 'BASAH', 'jumlah_pengeluaran': 0, 'satuan': 'LEMBAR', 'tahun': 2018}, {'id': 66, 'kode_provinsi': 32, 'nama_provinsi': 'JAWA BARAT', 'kode_kabupaten_kota': 3206, 'nama_kabupaten_kota': 'KABUPATEN TASIKMALAYA', 'kategori_kulit': 'KERING', 'jumlah_pengeluaran': 0, 'satuan': 'LEMBAR', 'tahun': 2018}, {'id': 67, 'kode_provinsi': 32, 'nama_provinsi': 'JAWA BARAT', 'kode_kabupaten_kota': 3207, 'nama_kabupaten_kota': 'KABUPATEN CIAMIS', 'kategori_kulit': 'BASAH', 'jumlah_pengeluaran': 0, 'satuan': 'LEMBAR', 'tahun': 2018}, {'id': 68, 'kode_provinsi': 32, 'nama_provinsi': 'JAWA BARAT', 'kode_kabupaten_kota': 3207, 'nama_kabupaten_kota': 'KABUPATEN CIAMIS', 'kategori_kulit': 'KERING', 'jumlah_pengeluaran': 0, 'satuan': 'LEMBAR', 'tahun': 2018}, {'id': 69, 'kode_provinsi': 32, 'nama_provinsi': 'JAWA BARAT', 'kode_kabupaten_kota': 3208, 'nama_kabupaten_kota': 'KABUPATEN KUNINGAN', 'kategori_kulit': 'BASAH', 'jumlah_pengeluaran': 0, 'satuan': 'LEMBAR', 'tahun': 2018}, {'id': 70, 'kode_provinsi': 32, 'nama_provinsi': 'JAWA BARAT', 'kode_kabupaten_kota': 3208, 'nama_kabupaten_kota': 'KABUPATEN KUNINGAN', 'kategori_kulit': 'KERING', 'jumlah_pengeluaran': 0, 'satuan': 'LEMBAR', 'tahun': 2018}, {'id': 71, 'kode_provinsi': 32, 'nama_provinsi': 'JAWA BARAT', 'kode_kabupaten_kota': 3209, 'nama_kabupaten_kota': 'KABUPATEN CIREBON', 'kategori_kulit': 'BASAH', 'jumlah_pengeluaran': 5499, 'satuan': 'LEMBAR', 'tahun': 2018}, {'id': 72, 'kode_provinsi': 32, 'nama_provinsi': 'JAWA BARAT', 'kode_kabupaten_kota': 3209, 'nama_kabupaten_kota': 'KABUPATEN CIREBON', 'kategori_kulit': 'KERING', 'jumlah_pengeluaran': 0, 'satuan': 'LEMBAR', 'tahun': 2018}, {'id': 73, 'kode_provinsi': 32, 'nama_provinsi': 'JAWA BARAT', 'kode_kabupaten_kota': 3210, 'nama_kabupaten_kota': 'KABUPATEN MAJALENGKA', 'kategori_kulit': 'BASAH', 'jumlah_pengeluaran': 0, 'satuan': 'LEMBAR', 'tahun': 2018}, {'id': 74, 'kode_provinsi': 32, 'nama_provinsi': 'JAWA BARAT', 'kode_kabupaten_kota': 3210, 'nama_kabupaten_kota': 'KABUPATEN MAJALENGKA', 'kategori_kulit': 'KERING', 'jumlah_pengeluaran': 0, 'satuan': 'LEMBAR', 'tahun': 2018}, {'id': 75, 'kode_provinsi': 32, 'nama_provinsi': 'JAWA BARAT', 'kode_kabupaten_kota': 3211, 'nama_kabupaten_kota': 'KABUPATEN SUMEDANG', 'kategori_kulit': 'BASAH', 'jumlah_pengeluaran': 0, 'satuan': 'LEMBAR', 'tahun': 2018}, {'id': 76, 'kode_provinsi': 32, 'nama_provinsi': 'JAWA BARAT', 'kode_kabupaten_kota': 3211, 'nama_kabupaten_kota': 'KABUPATEN SUMEDANG', 'kategori_kulit': 'KERING', 'jumlah_pengeluaran': 0, 'satuan': 'LEMBAR', 'tahun': 2018}, {'id': 77, 'kode_provinsi': 32, 'nama_provinsi': 'JAWA BARAT', 'kode_kabupaten_kota': 3212, 'nama_kabupaten_kota': 'KABUPATEN INDRAMAYU', 'kategori_kulit': 'BASAH', 'jumlah_pengeluaran': 0, 'satuan': 'LEMBAR', 'tahun': 2018}, {'id': 78, 'kode_provinsi': 32, 'nama_provinsi': 'JAWA BARAT', 'kode_kabupaten_kota': 3212, 'nama_kabupaten_kota': 'KABUPATEN INDRAMAYU', 'kategori_kulit': 'KERING', 'jumlah_pengeluaran': 0, 'satuan': 'LEMBAR', 'tahun': 2018}, {'id': 79, 'kode_provinsi': 32, 'nama_provinsi': 'JAWA BARAT', 'kode_kabupaten_kota': 3213, 'nama_kabupaten_kota': 'KABUPATEN SUBANG', 'kategori_kulit': 'BASAH', 'jumlah_pengeluaran': 0, 'satuan': 'LEMBAR', 'tahun': 2018}, {'id': 80, 'kode_provinsi': 32, 'nama_provinsi': 'JAWA BARAT', 'kode_kabupaten_kota': 3213, 'nama_kabupaten_kota': 'KABUPATEN SUBANG', 'kategori_kulit': 'KERING', 'jumlah_pengeluaran': 0, 'satuan': 'LEMBAR', 'tahun': 2018}, {'id': 81, 'kode_provinsi': 32, 'nama_provinsi': 'JAWA BARAT', 'kode_kabupaten_kota': 3214, 'nama_kabupaten_kota': 'KABUPATEN PURWAKARTA', 'kategori_kulit': 'BASAH', 'jumlah_pengeluaran': 0, 'satuan': 'LEMBAR', 'tahun': 2018}, {'id': 82, 'kode_provinsi': 32, 'nama_provinsi': 'JAWA BARAT', 'kode_kabupaten_kota': 3214, 'nama_kabupaten_kota': 'KABUPATEN PURWAKARTA', 'kategori_kulit': 'KERING', 'jumlah_pengeluaran': 0, 'satuan': 'LEMBAR', 'tahun': 2018}, {'id': 83, 'kode_provinsi': 32, 'nama_provinsi': 'JAWA BARAT', 'kode_kabupaten_kota': 3215, 'nama_kabupaten_kota': 'KABUPATEN KARAWANG', 'kategori_kulit': 'BASAH', 'jumlah_pengeluaran': 0, 'satuan': 'LEMBAR', 'tahun': 2018}, {'id': 84, 'kode_provinsi': 32, 'nama_provinsi': 'JAWA BARAT', 'kode_kabupaten_kota': 3215, 'nama_kabupaten_kota': 'KABUPATEN KARAWANG', 'kategori_kulit': 'KERING', 'jumlah_pengeluaran': 0, 'satuan': 'LEMBAR', 'tahun': 2018}, {'id': 85, 'kode_provinsi': 32, 'nama_provinsi': 'JAWA BARAT', 'kode_kabupaten_kota': 3216, 'nama_kabupaten_kota': 'KABUPATEN BEKASI', 'kategori_kulit': 'BASAH', 'jumlah_pengeluaran': 0, 'satuan': 'LEMBAR', 'tahun': 2018}, {'id': 86, 'kode_provinsi': 32, 'nama_provinsi': 'JAWA BARAT', 'kode_kabupaten_kota': 3216, 'nama_kabupaten_kota': 'KABUPATEN BEKASI', 'kategori_kulit': 'KERING', 'jumlah_pengeluaran': 0, 'satuan': 'LEMBAR', 'tahun': 2018}, {'id': 87, 'kode_provinsi': 32, 'nama_provinsi': 'JAWA BARAT', 'kode_kabupaten_kota': 3217, 'nama_kabupaten_kota': 'KABUPATEN BANDUNG BARAT', 'kategori_kulit': 'BASAH', 'jumlah_pengeluaran': 0, 'satuan': 'LEMBAR', 'tahun': 2018}, {'id': 88, 'kode_provinsi': 32, 'nama_provinsi': 'JAWA BARAT', 'kode_kabupaten_kota': 3217, 'nama_kabupaten_kota': 'KABUPATEN BANDUNG BARAT', 'kategori_kulit': 'KERING', 'jumlah_pengeluaran': 0, 'satuan': 'LEMBAR', 'tahun': 2018}, {'id': 89, 'kode_provinsi': 32, 'nama_provinsi': 'JAWA BARAT', 'kode_kabupaten_kota': 3218, 'nama_kabupaten_kota': 'KABUPATEN PANGANDARAN', 'kategori_kulit': 'BASAH', 'jumlah_pengeluaran': 0, 'satuan': 'LEMBAR', 'tahun': 2018}, {'id': 90, 'kode_provinsi': 32, 'nama_provinsi': 'JAWA BARAT', 'kode_kabupaten_kota': 3218, 'nama_kabupaten_kota': 'KABUPATEN PANGANDARAN', 'kategori_kulit': 'KERING', 'jumlah_pengeluaran': 0, 'satuan': 'LEMBAR', 'tahun': 2018}, {'id': 91, 'kode_provinsi': 32, 'nama_provinsi': 'JAWA BARAT', 'kode_kabupaten_kota': 3271, 'nama_kabupaten_kota': 'KOTA BOGOR', 'kategori_kulit': 'BASAH', 'jumlah_pengeluaran': 0, 'satuan': 'LEMBAR', 'tahun': 2018}, {'id': 92, 'kode_provinsi': 32, 'nama_provinsi': 'JAWA BARAT', 'kode_kabupaten_kota': 3271, 'nama_kabupaten_kota': 'KOTA BOGOR', 'kategori_kulit': 'KERING', 'jumlah_pengeluaran': 0, 'satuan': 'LEMBAR', 'tahun': 2018}, {'id': 93, 'kode_provinsi': 32, 'nama_provinsi': 'JAWA BARAT', 'kode_kabupaten_kota': 3272, 'nama_kabupaten_kota': 'KOTA SUKABUMI', 'kategori_kulit': 'BASAH', 'jumlah_pengeluaran': 0, 'satuan': 'LEMBAR', 'tahun': 2018}, {'id': 94, 'kode_provinsi': 32, 'nama_provinsi': 'JAWA BARAT', 'kode_kabupaten_kota': 3272, 'nama_kabupaten_kota': 'KOTA SUKABUMI', 'kategori_kulit': 'KERING', 'jumlah_pengeluaran': 0, 'satuan': 'LEMBAR', 'tahun': 2018}, {'id': 95, 'kode_provinsi': 32, 'nama_provinsi': 'JAWA BARAT', 'kode_kabupaten_kota': 3273, 'nama_kabupaten_kota': 'KOTA BANDUNG', 'kategori_kulit': 'BASAH', 'jumlah_pengeluaran': 0, 'satuan': 'LEMBAR', 'tahun': 2018}, {'id': 96, 'kode_provinsi': 32, 'nama_provinsi': 'JAWA BARAT', 'kode_kabupaten_kota': 3273, 'nama_kabupaten_kota': 'KOTA BANDUNG', 'kategori_kulit': 'KERING', 'jumlah_pengeluaran': 0, 'satuan': 'LEMBAR', 'tahun': 2018}, {'id': 97, 'kode_provinsi': 32, 'nama_provinsi': 'JAWA BARAT', 'kode_kabupaten_kota': 3274, 'nama_kabupaten_kota': 'KOTA CIREBON', 'kategori_kulit': 'BASAH', 'jumlah_pengeluaran': 0, 'satuan': 'LEMBAR', 'tahun': 2018}, {'id': 98, 'kode_provinsi': 32, 'nama_provinsi': 'JAWA BARAT', 'kode_kabupaten_kota': 3274, 'nama_kabupaten_kota': 'KOTA CIREBON', 'kategori_kulit': 'KERING', 'jumlah_pengeluaran': 0, 'satuan': 'LEMBAR', 'tahun': 2018}, {'id': 99, 'kode_provinsi': 32, 'nama_provinsi': 'JAWA BARAT', 'kode_kabupaten_kota': 3275, 'nama_kabupaten_kota': 'KOTA BEKASI', 'kategori_kulit': 'BASAH', 'jumlah_pengeluaran': 0, 'satuan': 'LEMBAR', 'tahun': 2018}, {'id': 100, 'kode_provinsi': 32, 'nama_provinsi': 'JAWA BARAT', 'kode_kabupaten_kota': 3275, 'nama_kabupaten_kota': 'KOTA BEKASI', 'kategori_kulit': 'KERING', 'jumlah_pengeluaran': 0, 'satuan': 'LEMBAR', 'tahun': 2018}]\n"
          ]
        }
      ]
    },
    {
      "cell_type": "code",
      "source": [
        "df = spark.createDataFrame(data)\n",
        "df.show()"
      ],
      "metadata": {
        "colab": {
          "base_uri": "https://localhost:8080/"
        },
        "id": "6xgneaT3v6yd",
        "outputId": "5ed14e59-ac5d-49fd-bf72-3d1df456f109"
      },
      "execution_count": 7,
      "outputs": [
        {
          "output_type": "stream",
          "name": "stdout",
          "text": [
            "+---+------------------+--------------+-------------------+-------------+--------------------+-------------+------+-----+\n",
            "| id|jumlah_pengeluaran|kategori_kulit|kode_kabupaten_kota|kode_provinsi| nama_kabupaten_kota|nama_provinsi|satuan|tahun|\n",
            "+---+------------------+--------------+-------------------+-------------+--------------------+-------------+------+-----+\n",
            "|  1|              7471|         BASAH|               3201|           32|     KABUPATEN BOGOR|   JAWA BARAT|LEMBAR| 2017|\n",
            "|  2|              3065|        KERING|               3201|           32|     KABUPATEN BOGOR|   JAWA BARAT|LEMBAR| 2017|\n",
            "|  3|                 0|         BASAH|               3202|           32|  KABUPATEN SUKABUMI|   JAWA BARAT|LEMBAR| 2017|\n",
            "|  4|                 0|        KERING|               3202|           32|  KABUPATEN SUKABUMI|   JAWA BARAT|LEMBAR| 2017|\n",
            "|  5|                 0|         BASAH|               3203|           32|   KABUPATEN CIANJUR|   JAWA BARAT|LEMBAR| 2017|\n",
            "|  6|               474|        KERING|               3203|           32|   KABUPATEN CIANJUR|   JAWA BARAT|LEMBAR| 2017|\n",
            "|  7|                 0|         BASAH|               3204|           32|   KABUPATEN BANDUNG|   JAWA BARAT|LEMBAR| 2017|\n",
            "|  8|                 0|        KERING|               3204|           32|   KABUPATEN BANDUNG|   JAWA BARAT|LEMBAR| 2017|\n",
            "|  9|                 0|         BASAH|               3205|           32|     KABUPATEN GARUT|   JAWA BARAT|LEMBAR| 2017|\n",
            "| 10|                 0|        KERING|               3205|           32|     KABUPATEN GARUT|   JAWA BARAT|LEMBAR| 2017|\n",
            "| 11|                 0|         BASAH|               3206|           32|KABUPATEN TASIKMA...|   JAWA BARAT|LEMBAR| 2017|\n",
            "| 12|                 0|        KERING|               3206|           32|KABUPATEN TASIKMA...|   JAWA BARAT|LEMBAR| 2017|\n",
            "| 13|                 0|         BASAH|               3207|           32|    KABUPATEN CIAMIS|   JAWA BARAT|LEMBAR| 2017|\n",
            "| 14|                 0|        KERING|               3207|           32|    KABUPATEN CIAMIS|   JAWA BARAT|LEMBAR| 2017|\n",
            "| 15|                 0|         BASAH|               3208|           32|  KABUPATEN KUNINGAN|   JAWA BARAT|LEMBAR| 2017|\n",
            "| 16|                 0|        KERING|               3208|           32|  KABUPATEN KUNINGAN|   JAWA BARAT|LEMBAR| 2017|\n",
            "| 17|              5765|         BASAH|               3209|           32|   KABUPATEN CIREBON|   JAWA BARAT|LEMBAR| 2017|\n",
            "| 18|                 0|        KERING|               3209|           32|   KABUPATEN CIREBON|   JAWA BARAT|LEMBAR| 2017|\n",
            "| 19|                 0|         BASAH|               3210|           32|KABUPATEN MAJALENGKA|   JAWA BARAT|LEMBAR| 2017|\n",
            "| 20|                 0|        KERING|               3210|           32|KABUPATEN MAJALENGKA|   JAWA BARAT|LEMBAR| 2017|\n",
            "+---+------------------+--------------+-------------------+-------------+--------------------+-------------+------+-----+\n",
            "only showing top 20 rows\n",
            "\n"
          ]
        }
      ]
    },
    {
      "cell_type": "code",
      "source": [
        "# Tugas\n",
        "# Cari Indonesia publik open data\n",
        "# Contoh: Open Data DKI, Open Data Jabar, Satudata.go.id\n",
        "# * Lakukan analisa data\n",
        "# * Buat laporan\n",
        "# * Upload hasil di: https://drive.google.com/drive/folders/14EnNTqEiJPlGdaKn6iFfK3m-HYZhLChP?usp=sharing"
      ],
      "metadata": {
        "id": "Wf0e2ST-wEPa"
      },
      "execution_count": 8,
      "outputs": []
    },
    {
      "cell_type": "code",
      "source": [],
      "metadata": {
        "id": "Nda1E2mzw6Pk"
      },
      "execution_count": null,
      "outputs": []
    }
  ]
}